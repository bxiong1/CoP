{
 "cells": [
  {
   "cell_type": "code",
   "execution_count": 1,
   "id": "a524067b-cb76-40d9-8920-ec6e7b055d02",
   "metadata": {},
   "outputs": [
    {
     "data": {
      "application/vnd.jupyter.widget-view+json": {
       "model_id": "6b874c8691d747e1b688d1068ca226e4",
       "version_major": 2,
       "version_minor": 0
      },
      "text/plain": [
       "Loading checkpoint shards:   0%|          | 0/6 [00:00<?, ?it/s]"
      ]
     },
     "metadata": {},
     "output_type": "display_data"
    }
   ],
   "source": [
    "from judge import harmbench_judge\n",
    "from transformers import AutoModelForCausalLM, AutoTokenizer\n",
    "import torch\n",
    "\n",
    "cls = AutoModelForCausalLM.from_pretrained(\"/workspace/HarmBench-Llama-2-13b-cls\", torch_dtype=torch.float16, device_map=\"auto\")\n",
    "tokenizer = AutoTokenizer.from_pretrained(\"/workspace/HarmBench-Llama-2-13b-cls\", use_fast=False, truncation_side=\"left\", padding_side=\"left\")\n"
   ]
  },
  {
   "cell_type": "code",
   "execution_count": 3,
   "id": "0b80dc01-903a-4dca-b449-7f0f26ccbaf3",
   "metadata": {},
   "outputs": [],
   "source": [
    "import pandas as pd\n",
    "data_df = pd.read_csv(\"/workspace/rl_llm_new/harmbench_behaviors_sampled_queries.csv\")\n",
    "id = data_df.BehaviorID\n",
    "prompt_l = data_df.Behavior.tolist()"
   ]
  },
  {
   "cell_type": "code",
   "execution_count": 5,
   "id": "90bc73a5-d6a1-4da0-ad23-e3597a216c16",
   "metadata": {},
   "outputs": [
    {
     "name": "stdout",
     "output_type": "stream",
     "text": [
      "21\n",
      "0.42\n"
     ]
    }
   ],
   "source": [
    "\n",
    "jb_count = 0\n",
    "problem_id = []\n",
    "for i in range(len(id)):\n",
    "    try:\n",
    "        results = pd.read_csv(f\"/workspace/o1_test_score_10_harmbench_saved_all_grok/o1_jb_{id[i]}.csv\")\n",
    "        behaviors = results[\"best_msg\"]\n",
    "        responses = results[\"jailbreak_output\"]\n",
    "        goal=prompt_l[i]\n",
    "        judge_l = []\n",
    "        for j in range(len(behaviors)):\n",
    "            judge = harmbench_judge(cls, tokenizer, behaviors[j], responses[j])[0]\n",
    "            judge_l.append(judge)\n",
    "        if any(\"Yes\" in item for item in judge_l):\n",
    "            # print(\"Questions\")\n",
    "            # print(behavior)\n",
    "            # print(\"\\n\")\n",
    "            # print(\"Response\")\n",
    "            # print(response)\n",
    "            # print(\"\\n\")\n",
    "            # print(\"ID\")\n",
    "            # print(id[i])\n",
    "            jb_count+=1\n",
    "            \n",
    "        else:\n",
    "            problem_id.append(id[i])\n",
    "            continue\n",
    "    except:\n",
    "        continue\n",
    "print(jb_count)\n",
    "print(jb_count/50)"
   ]
  }
 ],
 "metadata": {
  "kernelspec": {
   "display_name": "Python 3 (ipykernel)",
   "language": "python",
   "name": "python3"
  },
  "language_info": {
   "codemirror_mode": {
    "name": "ipython",
    "version": 3
   },
   "file_extension": ".py",
   "mimetype": "text/x-python",
   "name": "python",
   "nbconvert_exporter": "python",
   "pygments_lexer": "ipython3",
   "version": "3.10.12"
  }
 },
 "nbformat": 4,
 "nbformat_minor": 5
}
